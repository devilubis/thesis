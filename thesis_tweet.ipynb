{
  "nbformat": 4,
  "nbformat_minor": 0,
  "metadata": {
    "colab": {
      "name": "thesis_tweet.ipynb",
      "provenance": [],
      "collapsed_sections": [],
      "authorship_tag": "ABX9TyMALzz3BasdfKRw7w4aGsHE"
    },
    "kernelspec": {
      "name": "python3",
      "display_name": "Python 3"
    },
    "language_info": {
      "name": "python"
    }
  },
  "cells": [
    {
      "cell_type": "code",
      "metadata": {
        "id": "SeHBuvkuR4iX"
      },
      "source": [
        "# import libraries\n",
        "import pandas as pd\n",
        "import numpy as np\n",
        "import tensorflow as tf\n",
        "\n",
        "from sklearn.preprocessing import MultiLabelBinarizer\n",
        "from sklearn.utils import shuffle\n",
        "from tensorflow.keras.layers import Dense\n",
        "from tensorflow.keras.models import Sequential"
      ],
      "execution_count": 1,
      "outputs": []
    },
    {
      "cell_type": "code",
      "metadata": {
        "id": "XF3bxG0sSXY7"
      },
      "source": [
        "# authenticate to GCS account\n",
        "from google.colab import auth\n",
        "auth.authenticate_user()"
      ],
      "execution_count": 2,
      "outputs": []
    },
    {
      "cell_type": "code",
      "metadata": {
        "id": "Z--j2b5bTHOl",
        "colab": {
          "base_uri": "https://localhost:8080/"
        },
        "outputId": "3860e75f-f38b-40e9-cee0-f918635b79df"
      },
      "source": [
        "# download data from GCS\n",
        "!gsutil cp 'gs://tesis_devi/twitter_4000.csv' ./"
      ],
      "execution_count": 6,
      "outputs": [
        {
          "output_type": "stream",
          "name": "stdout",
          "text": [
            "Copying gs://tesis_devi/twitter_4000.csv...\n",
            "/ [1 files][458.4 KiB/458.4 KiB]                                                \n",
            "Operation completed over 1 objects/458.4 KiB.                                    \n"
          ]
        }
      ]
    },
    {
      "cell_type": "code",
      "metadata": {
        "colab": {
          "base_uri": "https://localhost:8080/",
          "height": 142
        },
        "id": "6VefTzA2Yx55",
        "outputId": "5d38da4b-d264-4a93-80ef-d7a59f3d8040"
      },
      "source": [
        "# read and shuffle data\n",
        "data = pd.read_csv('twitter_4000.csv')\n",
        "data = shuffle(data, random_state=21)\n",
        "\n",
        "data.head(3)"
      ],
      "execution_count": 7,
      "outputs": [
        {
          "output_type": "execute_result",
          "data": {
            "text/html": [
              "<div>\n",
              "<style scoped>\n",
              "    .dataframe tbody tr th:only-of-type {\n",
              "        vertical-align: middle;\n",
              "    }\n",
              "\n",
              "    .dataframe tbody tr th {\n",
              "        vertical-align: top;\n",
              "    }\n",
              "\n",
              "    .dataframe thead th {\n",
              "        text-align: right;\n",
              "    }\n",
              "</style>\n",
              "<table border=\"1\" class=\"dataframe\">\n",
              "  <thead>\n",
              "    <tr style=\"text-align: right;\">\n",
              "      <th></th>\n",
              "      <th>tweet</th>\n",
              "      <th>tag</th>\n",
              "    </tr>\n",
              "  </thead>\n",
              "  <tbody>\n",
              "    <tr>\n",
              "      <th>3132</th>\n",
              "      <td>euh ouai le rapport avec camus  si vous navez ...</td>\n",
              "      <td>france</td>\n",
              "    </tr>\n",
              "    <tr>\n",
              "      <th>2299</th>\n",
              "      <td>hah tadi kamu post di holy kah kok aku gak nyadar</td>\n",
              "      <td>indonesia</td>\n",
              "    </tr>\n",
              "    <tr>\n",
              "      <th>224</th>\n",
              "      <td>be a better you for you</td>\n",
              "      <td>english</td>\n",
              "    </tr>\n",
              "  </tbody>\n",
              "</table>\n",
              "</div>"
            ],
            "text/plain": [
              "                                                  tweet        tag\n",
              "3132  euh ouai le rapport avec camus  si vous navez ...     france\n",
              "2299  hah tadi kamu post di holy kah kok aku gak nyadar  indonesia\n",
              "224                             be a better you for you    english"
            ]
          },
          "metadata": {},
          "execution_count": 7
        }
      ]
    },
    {
      "cell_type": "code",
      "metadata": {
        "colab": {
          "base_uri": "https://localhost:8080/"
        },
        "id": "r7IndVdZdE75",
        "outputId": "5a54fab3-81c1-4f63-d772-298e88f76d14"
      },
      "source": [
        "# create label\n",
        "labels = [labels.split(',') for labels in data['tag'].values]\n",
        "encoder = MultiLabelBinarizer()\n",
        "encoded_label = encoder.fit_transform(labels)\n",
        "num_label = len(encoded_label[0])\n",
        "\n",
        "print(data['tweet'].values[0])\n",
        "\n",
        "print(encoder.classes_)\n",
        "print(encoded_label[0])"
      ],
      "execution_count": 8,
      "outputs": [
        {
          "output_type": "stream",
          "name": "stdout",
          "text": [
            "euh ouai le rapport avec camus  si vous navez pas compris la rfrence foucault je peux vous expliquer donc nous sommes daccord  facultuellement il y a changement de population culturelle  vous trouvez a bien  moi dramatique  cest l notre diffrence\n",
            "['english' 'france' 'germany' 'indonesia']\n",
            "[0 1 0 0]\n"
          ]
        }
      ]
    },
    {
      "cell_type": "code",
      "metadata": {
        "id": "cqgjlMsUgjyT"
      },
      "source": [
        "# split data\n",
        "\n",
        "train_size = int(len(data) * .8)\n",
        "train_label = encoded_label[:train_size]\n",
        "test_label = encoded_label[train_size:]"
      ],
      "execution_count": 9,
      "outputs": []
    },
    {
      "cell_type": "code",
      "metadata": {
        "colab": {
          "base_uri": "https://localhost:8080/"
        },
        "id": "F3-Y6q7Ahj4z",
        "outputId": "ac6a3f05-8995-40db-90c3-8b612aafd08b"
      },
      "source": [
        "# tokenizer class\n",
        "# keras for building BoW model\n",
        "%%writefile preprocess.py\n",
        "\n",
        "from tensorflow.keras.preprocessing import text\n",
        "\n",
        "class TextPreprocessor(object):\n",
        "  def __init__(self, vocab_size):\n",
        "    self.vocab_size = vocab_size\n",
        "    self.tokenizer = None\n",
        "\n",
        "  def create_tokenizer(self, text_list):\n",
        "    tokenizer = text.Tokenizer(num_words=self.vocab_size)\n",
        "    tokenizer.fit_on_texts(text_list)\n",
        "    self._tokenizer = tokenizer\n",
        "\n",
        "  def transform_text(self, text_list):\n",
        "    text_matrix = self._tokenizer.texts_to_matrix(text_list)\n",
        "    return text_matrix"
      ],
      "execution_count": 10,
      "outputs": [
        {
          "output_type": "stream",
          "name": "stdout",
          "text": [
            "Writing preprocess.py\n"
          ]
        }
      ]
    },
    {
      "cell_type": "code",
      "metadata": {
        "colab": {
          "base_uri": "https://localhost:8080/"
        },
        "id": "kPGBErEciAKD",
        "outputId": "6fdd1632-bdbf-4206-8c50-e061547b1710"
      },
      "source": [
        "# implementing Bow\n",
        "\n",
        "from preprocess import TextPreprocessor\n",
        "\n",
        "train_tweet = data['tweet'].values[:train_size]\n",
        "test_tweet = data['tweet'].values[train_size:]\n",
        "\n",
        "VOCAB_SIZE = 200\n",
        "\n",
        "processor = TextPreprocessor(VOCAB_SIZE)\n",
        "processor.create_tokenizer(train_tweet)\n",
        "\n",
        "body_train = processor.transform_text(train_tweet)\n",
        "body_test = processor.transform_text(test_tweet)\n",
        "\n",
        "print(train_tweet[0])\n",
        "print(body_train[0])\n"
      ],
      "execution_count": 11,
      "outputs": [
        {
          "output_type": "stream",
          "name": "stdout",
          "text": [
            "euh ouai le rapport avec camus  si vous navez pas compris la rfrence foucault je peux vous expliquer donc nous sommes daccord  facultuellement il y a changement de population culturelle  vous trouvez a bien  moi dramatique  cest l notre diffrence\n",
            "[0. 1. 0. 1. 0. 0. 0. 0. 0. 0. 0. 0. 1. 0. 0. 0. 1. 0. 0. 0. 0. 1. 0. 0.\n",
            " 0. 0. 0. 0. 1. 0. 0. 0. 0. 0. 0. 0. 0. 0. 0. 0. 0. 1. 0. 0. 0. 0. 0. 0.\n",
            " 0. 0. 0. 1. 0. 1. 0. 0. 0. 0. 0. 0. 0. 1. 0. 0. 0. 0. 0. 0. 0. 0. 0. 0.\n",
            " 0. 0. 0. 0. 0. 0. 1. 0. 0. 0. 0. 0. 0. 0. 0. 0. 1. 0. 0. 0. 0. 0. 0. 0.\n",
            " 0. 0. 0. 0. 0. 0. 0. 0. 0. 0. 1. 0. 0. 0. 0. 0. 0. 0. 0. 0. 0. 0. 0. 0.\n",
            " 0. 0. 0. 0. 0. 0. 0. 0. 0. 0. 0. 0. 0. 0. 0. 0. 0. 0. 0. 0. 0. 0. 0. 0.\n",
            " 0. 1. 0. 0. 0. 0. 0. 0. 0. 0. 0. 0. 0. 0. 0. 0. 0. 0. 0. 0. 0. 0. 0. 0.\n",
            " 0. 0. 0. 0. 0. 0. 0. 0. 1. 0. 0. 0. 0. 0. 0. 0. 1. 0. 0. 0. 0. 0. 0. 0.\n",
            " 0. 0. 0. 0. 0. 0. 0. 0.]\n"
          ]
        }
      ]
    },
    {
      "cell_type": "code",
      "metadata": {
        "colab": {
          "base_uri": "https://localhost:8080/"
        },
        "id": "i7Q6byEfjiGL",
        "outputId": "d190a82e-59ad-4e1f-9316-fbfdb786cf2e"
      },
      "source": [
        "# create model\n",
        "def create_model(vocab_size, num_tags):\n",
        "  model = Sequential() # MLP\n",
        "  model.add(Dense(50, input_shape=(vocab_size,), activation='relu')) # first layer / input\n",
        "  model.add(Dense(25, activation='relu')) # hidden layer\n",
        "  model.add(Dense(num_label, activation='sigmoid')) # output layer\n",
        "\n",
        "  # set up loss function, weight update method, and value to show when running model\n",
        "  model.compile(loss='binary_crossentropy', optimizer='adam', metrics=['accuracy'])\n",
        "  return model\n",
        "\n",
        "model = create_model(VOCAB_SIZE, num_label)\n",
        "model.summary()"
      ],
      "execution_count": 33,
      "outputs": [
        {
          "output_type": "stream",
          "name": "stdout",
          "text": [
            "Model: \"sequential_1\"\n",
            "_________________________________________________________________\n",
            " Layer (type)                Output Shape              Param #   \n",
            "=================================================================\n",
            " dense_3 (Dense)             (None, 50)                10050     \n",
            "                                                                 \n",
            " dense_4 (Dense)             (None, 25)                1275      \n",
            "                                                                 \n",
            " dense_5 (Dense)             (None, 4)                 104       \n",
            "                                                                 \n",
            "=================================================================\n",
            "Total params: 11,429\n",
            "Trainable params: 11,429\n",
            "Non-trainable params: 0\n",
            "_________________________________________________________________\n"
          ]
        }
      ]
    },
    {
      "cell_type": "code",
      "metadata": {
        "colab": {
          "base_uri": "https://localhost:8080/"
        },
        "id": "eQ9nSn6GkJ2y",
        "outputId": "c4c176d8-b720-4d4c-c0d1-b37a21072a36"
      },
      "source": [
        "# train model\n",
        "model.fit(body_train, train_label, epochs=3, batch_size=128, validation_split=0.1)"
      ],
      "execution_count": 34,
      "outputs": [
        {
          "output_type": "stream",
          "name": "stdout",
          "text": [
            "Train on 2880 samples, validate on 320 samples\n",
            "Epoch 1/3\n",
            "2880/2880 [==============================] - 0s 42us/sample - loss: 0.6477 - accuracy: 0.6817 - val_loss: 0.5717 - val_accuracy: 0.8109\n",
            "Epoch 2/3\n",
            "2880/2880 [==============================] - 0s 15us/sample - loss: 0.5054 - accuracy: 0.8043 - val_loss: 0.4263 - val_accuracy: 0.8172\n",
            "Epoch 3/3\n",
            "2880/2880 [==============================] - 0s 14us/sample - loss: 0.3636 - accuracy: 0.8518 - val_loss: 0.2831 - val_accuracy: 0.9070\n"
          ]
        },
        {
          "output_type": "stream",
          "name": "stderr",
          "text": [
            "`Model.state_updates` will be removed in a future version. This property should not be used in TensorFlow 2.0, as `updates` are applied automatically.\n"
          ]
        },
        {
          "output_type": "execute_result",
          "data": {
            "text/plain": [
              "<keras.callbacks.History at 0x7f98ccf44650>"
            ]
          },
          "metadata": {},
          "execution_count": 34
        }
      ]
    },
    {
      "cell_type": "code",
      "metadata": {
        "colab": {
          "base_uri": "https://localhost:8080/"
        },
        "id": "EB8hftCp0yZp",
        "outputId": "b556737c-5f56-42c8-c758-58fbb9a07857"
      },
      "source": [
        "# evaluate model\n",
        "model.evaluate(body_test, test_label, batch_size=128)"
      ],
      "execution_count": 35,
      "outputs": [
        {
          "output_type": "execute_result",
          "data": {
            "text/plain": [
              "[0.2999786376953125, 0.8978125]"
            ]
          },
          "metadata": {},
          "execution_count": 35
        }
      ]
    },
    {
      "cell_type": "code",
      "metadata": {
        "id": "WhEFFDe31LFL"
      },
      "source": [
        "# save model\n",
        "model.save('thesis_twitter_model.h5')"
      ],
      "execution_count": 36,
      "outputs": []
    }
  ]
}