{
  "nbformat": 4,
  "nbformat_minor": 0,
  "metadata": {
    "colab": {
      "name": "thesis_tweet.ipynb",
      "provenance": [],
      "collapsed_sections": [],
      "authorship_tag": "ABX9TyM/qNPGts69YKZbiMedTlf5",
      "include_colab_link": true
    },
    "kernelspec": {
      "name": "python3",
      "display_name": "Python 3"
    },
    "language_info": {
      "name": "python"
    }
  },
  "cells": [
    {
      "cell_type": "markdown",
      "metadata": {
        "id": "view-in-github",
        "colab_type": "text"
      },
      "source": [
        "<a href=\"https://colab.research.google.com/github/devilubis/thesis/blob/dev/thesis_tweet.ipynb\" target=\"_parent\"><img src=\"https://colab.research.google.com/assets/colab-badge.svg\" alt=\"Open In Colab\"/></a>"
      ]
    },
    {
      "cell_type": "code",
      "metadata": {
        "id": "SeHBuvkuR4iX",
        "colab": {
          "base_uri": "https://localhost:8080/"
        },
        "outputId": "e2159fa8-b365-4820-e7f0-1ac69dd112bc"
      },
      "source": [
        "# import libraries\n",
        "import pandas as pd\n",
        "import numpy as np\n",
        "import tensorflow as tf\n",
        "\n",
        "from sklearn.preprocessing import MultiLabelBinarizer\n",
        "from sklearn.utils import shuffle\n",
        "from tensorflow.keras.layers import Dense\n",
        "from tensorflow.keras.models import Sequential\n",
        "\n",
        "tf.compat.v1.disable_v2_behavior()"
      ],
      "execution_count": 149,
      "outputs": [
        {
          "output_type": "stream",
          "name": "stdout",
          "text": [
            "WARNING:tensorflow:From /usr/local/lib/python3.7/dist-packages/tensorflow/python/compat/v2_compat.py:111: disable_resource_variables (from tensorflow.python.ops.variable_scope) is deprecated and will be removed in a future version.\n",
            "Instructions for updating:\n",
            "non-resource variables are not supported in the long term\n"
          ]
        }
      ]
    },
    {
      "cell_type": "code",
      "metadata": {
        "id": "XF3bxG0sSXY7"
      },
      "source": [
        "# authenticate to GCS account\n",
        "from google.colab import auth\n",
        "auth.authenticate_user()"
      ],
      "execution_count": 150,
      "outputs": []
    },
    {
      "cell_type": "code",
      "metadata": {
        "id": "Z--j2b5bTHOl",
        "colab": {
          "base_uri": "https://localhost:8080/"
        },
        "outputId": "3f63d00a-ccb4-46ee-ad5c-ffbb6ab564cc"
      },
      "source": [
        "# download data from GCS\n",
        "!gsutil cp 'gs://tesis_devi/twitter_4000.csv' ./"
      ],
      "execution_count": 151,
      "outputs": [
        {
          "output_type": "stream",
          "name": "stdout",
          "text": [
            "Copying gs://tesis_devi/twitter_4000.csv...\n",
            "/ [1 files][458.4 KiB/458.4 KiB]                                                \n",
            "Operation completed over 1 objects/458.4 KiB.                                    \n"
          ]
        }
      ]
    },
    {
      "cell_type": "code",
      "metadata": {
        "colab": {
          "base_uri": "https://localhost:8080/",
          "height": 142
        },
        "id": "6VefTzA2Yx55",
        "outputId": "9a4aaee1-4ba1-458e-b176-b078a3a11d8f"
      },
      "source": [
        "# read and shuffle data\n",
        "data = pd.read_csv('twitter_4000.csv')\n",
        "data = shuffle(data, random_state=21)\n",
        "\n",
        "data.head(3)"
      ],
      "execution_count": 152,
      "outputs": [
        {
          "output_type": "execute_result",
          "data": {
            "text/html": [
              "<div>\n",
              "<style scoped>\n",
              "    .dataframe tbody tr th:only-of-type {\n",
              "        vertical-align: middle;\n",
              "    }\n",
              "\n",
              "    .dataframe tbody tr th {\n",
              "        vertical-align: top;\n",
              "    }\n",
              "\n",
              "    .dataframe thead th {\n",
              "        text-align: right;\n",
              "    }\n",
              "</style>\n",
              "<table border=\"1\" class=\"dataframe\">\n",
              "  <thead>\n",
              "    <tr style=\"text-align: right;\">\n",
              "      <th></th>\n",
              "      <th>tweet</th>\n",
              "      <th>tag</th>\n",
              "    </tr>\n",
              "  </thead>\n",
              "  <tbody>\n",
              "    <tr>\n",
              "      <th>3132</th>\n",
              "      <td>euh ouai le rapport avec camus  si vous navez ...</td>\n",
              "      <td>france</td>\n",
              "    </tr>\n",
              "    <tr>\n",
              "      <th>2299</th>\n",
              "      <td>hah tadi kamu post di holy kah kok aku gak nyadar</td>\n",
              "      <td>indonesia</td>\n",
              "    </tr>\n",
              "    <tr>\n",
              "      <th>224</th>\n",
              "      <td>be a better you for you</td>\n",
              "      <td>english</td>\n",
              "    </tr>\n",
              "  </tbody>\n",
              "</table>\n",
              "</div>"
            ],
            "text/plain": [
              "                                                  tweet        tag\n",
              "3132  euh ouai le rapport avec camus  si vous navez ...     france\n",
              "2299  hah tadi kamu post di holy kah kok aku gak nyadar  indonesia\n",
              "224                             be a better you for you    english"
            ]
          },
          "metadata": {},
          "execution_count": 152
        }
      ]
    },
    {
      "cell_type": "code",
      "metadata": {
        "colab": {
          "base_uri": "https://localhost:8080/"
        },
        "id": "r7IndVdZdE75",
        "outputId": "f4427d00-8668-443d-cdeb-4bc3c95e469e"
      },
      "source": [
        "# create label\n",
        "labels = [labels.split(',') for labels in data['tag'].values]\n",
        "encoder = MultiLabelBinarizer()\n",
        "encoded_label = encoder.fit_transform(labels)\n",
        "num_label = len(encoded_label[0])\n",
        "\n",
        "print(data['tweet'].values[0])\n",
        "\n",
        "print(encoder.classes_)\n",
        "print(encoded_label[0])"
      ],
      "execution_count": 153,
      "outputs": [
        {
          "output_type": "stream",
          "name": "stdout",
          "text": [
            "euh ouai le rapport avec camus  si vous navez pas compris la rfrence foucault je peux vous expliquer donc nous sommes daccord  facultuellement il y a changement de population culturelle  vous trouvez a bien  moi dramatique  cest l notre diffrence\n",
            "['english' 'france' 'germany' 'indonesia']\n",
            "[0 1 0 0]\n"
          ]
        }
      ]
    },
    {
      "cell_type": "code",
      "metadata": {
        "id": "cqgjlMsUgjyT"
      },
      "source": [
        "# split data\n",
        "\n",
        "train_size = int(len(data) * .8)\n",
        "train_label = encoded_label[:train_size]\n",
        "test_label = encoded_label[train_size:]"
      ],
      "execution_count": 154,
      "outputs": []
    },
    {
      "cell_type": "code",
      "metadata": {
        "colab": {
          "base_uri": "https://localhost:8080/"
        },
        "id": "F3-Y6q7Ahj4z",
        "outputId": "c1f900ad-75d5-4cec-8ca6-56de5f22ab4a"
      },
      "source": [
        "# tokenizer class\n",
        "# keras for building BoW model\n",
        "%%writefile preprocess.py\n",
        "\n",
        "from tensorflow.keras.preprocessing import text\n",
        "\n",
        "class TextPreprocessor(object):\n",
        "  def __init__(self, vocab_size):\n",
        "    self.vocab_size = vocab_size\n",
        "    self.tokenizer = None\n",
        "\n",
        "  def create_tokenizer(self, text_list):\n",
        "    tokenizer = text.Tokenizer(num_words=self.vocab_size)\n",
        "    tokenizer.fit_on_texts(text_list)\n",
        "    self._tokenizer = tokenizer\n",
        "\n",
        "  def transform_text(self, text_list):\n",
        "    text_matrix = self._tokenizer.texts_to_matrix(text_list)\n",
        "    return text_matrix"
      ],
      "execution_count": 155,
      "outputs": [
        {
          "output_type": "stream",
          "name": "stdout",
          "text": [
            "Overwriting preprocess.py\n"
          ]
        }
      ]
    },
    {
      "cell_type": "code",
      "metadata": {
        "colab": {
          "base_uri": "https://localhost:8080/"
        },
        "id": "kPGBErEciAKD",
        "outputId": "75834174-830c-4cf7-d4b3-098564c4e1b5"
      },
      "source": [
        "# implementing Bow\n",
        "\n",
        "from preprocess import TextPreprocessor\n",
        "\n",
        "train_tweet = data['tweet'].values[:train_size]\n",
        "test_tweet = data['tweet'].values[train_size:]\n",
        "\n",
        "VOCAB_SIZE = 200\n",
        "\n",
        "processor = TextPreprocessor(VOCAB_SIZE)\n",
        "processor.create_tokenizer(train_tweet)\n",
        "\n",
        "body_train = processor.transform_text(train_tweet)\n",
        "body_test = processor.transform_text(test_tweet)\n",
        "\n",
        "print(train_tweet[0])\n",
        "print(body_train[0])\n"
      ],
      "execution_count": 156,
      "outputs": [
        {
          "output_type": "stream",
          "name": "stdout",
          "text": [
            "euh ouai le rapport avec camus  si vous navez pas compris la rfrence foucault je peux vous expliquer donc nous sommes daccord  facultuellement il y a changement de population culturelle  vous trouvez a bien  moi dramatique  cest l notre diffrence\n",
            "[0. 1. 0. 1. 0. 0. 0. 0. 0. 0. 0. 0. 1. 0. 0. 0. 1. 0. 0. 0. 0. 1. 0. 0.\n",
            " 0. 0. 0. 0. 1. 0. 0. 0. 0. 0. 0. 0. 0. 0. 0. 0. 0. 1. 0. 0. 0. 0. 0. 0.\n",
            " 0. 0. 0. 1. 0. 1. 0. 0. 0. 0. 0. 0. 0. 1. 0. 0. 0. 0. 0. 0. 0. 0. 0. 0.\n",
            " 0. 0. 0. 0. 0. 0. 1. 0. 0. 0. 0. 0. 0. 0. 0. 0. 1. 0. 0. 0. 0. 0. 0. 0.\n",
            " 0. 0. 0. 0. 0. 0. 0. 0. 0. 0. 1. 0. 0. 0. 0. 0. 0. 0. 0. 0. 0. 0. 0. 0.\n",
            " 0. 0. 0. 0. 0. 0. 0. 0. 0. 0. 0. 0. 0. 0. 0. 0. 0. 0. 0. 0. 0. 0. 0. 0.\n",
            " 0. 1. 0. 0. 0. 0. 0. 0. 0. 0. 0. 0. 0. 0. 0. 0. 0. 0. 0. 0. 0. 0. 0. 0.\n",
            " 0. 0. 0. 0. 0. 0. 0. 0. 1. 0. 0. 0. 0. 0. 0. 0. 1. 0. 0. 0. 0. 0. 0. 0.\n",
            " 0. 0. 0. 0. 0. 0. 0. 0.]\n"
          ]
        }
      ]
    },
    {
      "cell_type": "code",
      "metadata": {
        "colab": {
          "base_uri": "https://localhost:8080/"
        },
        "id": "i7Q6byEfjiGL",
        "outputId": "2c5f42dd-0941-4661-d850-296fbe15eb3d"
      },
      "source": [
        "# create model\n",
        "def create_model(vocab_size, num_tags):\n",
        "  model = Sequential() # MLP\n",
        "  model.add(Dense(50, input_shape=(vocab_size,), activation='relu')) # first layer / input\n",
        "  model.add(Dense(25, activation='relu')) # hidden layer\n",
        "  model.add(Dense(num_label, activation='sigmoid')) # output layer\n",
        "\n",
        "  # set up loss function, weight update method, and value to show when running model\n",
        "  model.compile(loss='binary_crossentropy', optimizer='adam', metrics=['accuracy'])\n",
        "  return model\n",
        "\n",
        "model = create_model(VOCAB_SIZE, num_label)\n",
        "model.summary()"
      ],
      "execution_count": 157,
      "outputs": [
        {
          "output_type": "stream",
          "name": "stdout",
          "text": [
            "Model: \"sequential_2\"\n",
            "_________________________________________________________________\n",
            " Layer (type)                Output Shape              Param #   \n",
            "=================================================================\n",
            " dense_6 (Dense)             (None, 50)                10050     \n",
            "                                                                 \n",
            " dense_7 (Dense)             (None, 25)                1275      \n",
            "                                                                 \n",
            " dense_8 (Dense)             (None, 4)                 104       \n",
            "                                                                 \n",
            "=================================================================\n",
            "Total params: 11,429\n",
            "Trainable params: 11,429\n",
            "Non-trainable params: 0\n",
            "_________________________________________________________________\n"
          ]
        }
      ]
    },
    {
      "cell_type": "code",
      "metadata": {
        "colab": {
          "base_uri": "https://localhost:8080/"
        },
        "id": "eQ9nSn6GkJ2y",
        "outputId": "b1c06afd-6533-4458-e310-4eae1f7f787c"
      },
      "source": [
        "# train model\n",
        "history = model.fit(body_train, train_label, epochs=3, batch_size=128, validation_split=0.1)"
      ],
      "execution_count": 158,
      "outputs": [
        {
          "output_type": "stream",
          "name": "stdout",
          "text": [
            "Train on 2880 samples, validate on 320 samples\n",
            "Epoch 1/3\n",
            "2880/2880 [==============================] - 0s 41us/sample - loss: 0.6170 - acc: 0.7398 - val_loss: 0.5450 - val_acc: 0.7969\n",
            "Epoch 2/3\n",
            "2880/2880 [==============================] - 0s 16us/sample - loss: 0.4672 - acc: 0.8157 - val_loss: 0.3813 - val_acc: 0.8477\n",
            "Epoch 3/3\n",
            "2880/2880 [==============================] - 0s 14us/sample - loss: 0.3004 - acc: 0.9198 - val_loss: 0.2153 - val_acc: 0.9711\n"
          ]
        },
        {
          "output_type": "stream",
          "name": "stderr",
          "text": [
            "`Model.state_updates` will be removed in a future version. This property should not be used in TensorFlow 2.0, as `updates` are applied automatically.\n"
          ]
        }
      ]
    },
    {
      "cell_type": "code",
      "metadata": {
        "colab": {
          "base_uri": "https://localhost:8080/"
        },
        "id": "EB8hftCp0yZp",
        "outputId": "2b6f4e72-5c2b-4979-defe-1e724438573b"
      },
      "source": [
        "# evaluate model\n",
        "prediction = model.evaluate(body_test, test_label, batch_size=128)\n",
        "print(prediction)"
      ],
      "execution_count": 159,
      "outputs": [
        {
          "output_type": "stream",
          "name": "stdout",
          "text": [
            "[0.2239321994781494, 0.9684375]\n"
          ]
        }
      ]
    },
    {
      "cell_type": "code",
      "metadata": {
        "id": "WhEFFDe31LFL"
      },
      "source": [
        "# save model\n",
        "model.save('thesis_twitter_model.h5')"
      ],
      "execution_count": 160,
      "outputs": []
    },
    {
      "cell_type": "code",
      "metadata": {
        "colab": {
          "base_uri": "https://localhost:8080/"
        },
        "id": "7T7SxpH_86qg",
        "outputId": "c14b4304-5047-4424-97cb-1f3553264eba"
      },
      "source": [
        "import shap\n",
        "\n",
        "explainer = shap.DeepExplainer(model, body_train[:200])\n",
        "shap_vals = explainer.shap_values(body_test[:25])"
      ],
      "execution_count": 163,
      "outputs": [
        {
          "output_type": "stream",
          "name": "stderr",
          "text": [
            "Your TensorFlow version is newer than 2.4.0 and so graph support has been removed in eager mode and some static graphs may not be supported. See PR #1483 for discussion.\n"
          ]
        }
      ]
    },
    {
      "cell_type": "code",
      "metadata": {
        "colab": {
          "base_uri": "https://localhost:8080/"
        },
        "id": "DjM7sdjTBie8",
        "outputId": "c7495d64-a2d3-4ff8-8401-36d86f3242a8"
      },
      "source": [
        "words = processor._tokenizer.word_index\n",
        "\n",
        "word_lookup = list()\n",
        "for i in words.keys():\n",
        "  word_lookup.append(i)\n",
        "\n",
        "word_lookup = [''] + word_lookup\n",
        "print(word_lookup[:100])"
      ],
      "execution_count": 164,
      "outputs": [
        {
          "output_type": "stream",
          "name": "stdout",
          "text": [
            "['', 'de', 'die', 'a', 'the', 'und', 'to', 'in', 'and', 'ich', 'et', 'nicht', 'la', 'aku', 'you', 'das', 'le', 'der', 'i', 'my', 'this', 'je', 'of', 'les', 'ist', 'ini', 'dia', 'is', 'pas', 'on', 'that', 'que', 'des', 'en', 'es', 'itu', 'for', 'kamu', 'un', 'so', 'yang', 'moi', 'cette', 'me', 'di', 'du', 'auch', 'zu', 'elle', 'pour', 'dan', 'bien', 'was', 'cest', 'den', 'est', 'im', 'it', 'qui', 'ein', 'fr', 'vous', 'wie', 'auf', 'une', 'yg', 'ce', 'mit', 'aber', 'sie', 'dies', 'an', 'ya', 'dass', 'von', 'ada', 'are', 'with', 'il', 'will', 'dans', 'have', 'eine', 'be', 'ga', 'your', 'hat', 'like', 'avec', 'at', 'au', 'wenn', 'amp', 'jai', 'sich', 'ne', 'sur', 'mais', 'man', 'all']\n"
          ]
        }
      ]
    },
    {
      "cell_type": "code",
      "metadata": {
        "colab": {
          "base_uri": "https://localhost:8080/",
          "height": 581
        },
        "id": "LXVJOm0kCK_u",
        "outputId": "15a19967-12de-40c6-d22c-52c39df0213b"
      },
      "source": [
        "# plot\n",
        "shap.summary_plot(shap_vals, feature_names=word_lookup, class_names=encoder.classes_)"
      ],
      "execution_count": 166,
      "outputs": [
        {
          "output_type": "display_data",
          "data": {
            "image/png": "[encoded data removed]",
            "text/plain": [
              "<Figure size 576x684 with 1 Axes>"
            ]
          },
          "metadata": {
            "needs_background": "light"
          }
        }
      ]
    }
  ]
}